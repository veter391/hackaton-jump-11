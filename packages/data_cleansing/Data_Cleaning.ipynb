{
 "cells": [
  {
   "cell_type": "markdown",
   "metadata": {},
   "source": [
    "## Data cleansing and JSON creation"
   ]
  },
  {
   "cell_type": "markdown",
   "metadata": {},
   "source": [
    "La neteja de les dades està dividida en dos fitxers. El primer fitxer és aquest; el segon és RendaEquipamentsServeissocials.ipynb.\n",
    "\n",
    "Datasets utilitzats en aquest fitxer:\n",
    "1.  [Equipaments educacio csv](https://opendata-ajuntament.barcelona.cat/data/ca/dataset/educacio-ensenyament-reglat/resource/4809b3ab-a500-4086-bc7d-52bdcd9f2e0e)\n",
    "2.  [Educacio ensenyament infantil](https://opendata-ajuntament.barcelona.cat/data/ca/dataset/educacio-ensenyament-infantil/resource/114a72b3-2c9c-40c6-a7e6-d85dca704726)\n",
    "3. [Educacio ensenyament regla](https://opendata-ajuntament.barcelona.cat/data/ca/dataset/educacio-ensenyament-reglat/resource/4809b3ab-a500-4086-bc7d-52bdcd9f2e0e)\n",
    "4. [Estudiants barri](https://opendata-ajuntament.barcelona.cat/data/ca/dataset/pad_mdbas_niv-educa-esta_sexe)\n",
    "\n",
    "Datasets utilizats en RendaEquipamentsServeissocials:\n",
    "\n",
    "1. [Equipaments associacions](https://opendata-ajuntament.barcelona.cat/data/ca/dataset/equipament-associacions/resource/796ee1c2-975a-4d68-8753-52df8c2fc304)\n",
    "2. [Equipaments de serveis socials ](https://opendata-ajuntament.barcelona.cat/data/ca/dataset/equipament-serveis-socials)\n",
    "3. [Renda](https://opendata-ajuntament.barcelona.cat/data/ca/dataset/atles-renda-bruta-per-persona)\n",
    "\n",
    "Els dos fitxers tracten les dades i creen els JSON que després utilitzem com a context per al ChatGPT amb l'ajuda de l'API d'OpenAI."
   ]
  },
  {
   "cell_type": "markdown",
   "metadata": {},
   "source": [
    "El fitxer Data_Cleaning conté una funció per carregar les dades amb el format pertinent, llegir-les amb l'encoding necessari i fer-ne la neteja quan convingui. La major part del codi ha estat continguda en una classe, ja que al principi teníem una gran quantitat de cel·les amb les quals treballàvem de forma individual cada conjunt de dades i, per tal de reutilitzar i fer el codi més fàcil d'entendre, hem decidit crear una classe per tractar amb els conjunts de dades."
   ]
  },
  {
   "cell_type": "code",
   "execution_count": 1,
   "metadata": {},
   "outputs": [
    {
     "name": "stderr",
     "output_type": "stream",
     "text": [
      "c:\\Users\\34644\\anaconda3\\lib\\site-packages\\numpy\\_distributor_init.py:30: UserWarning: loaded more than 1 DLL from .libs:\n",
      "c:\\Users\\34644\\anaconda3\\lib\\site-packages\\numpy\\.libs\\libopenblas.FB5AE2TYXYH2IJRDKGDGQ3XBKLKTF43H.gfortran-win_amd64.dll\n",
      "c:\\Users\\34644\\anaconda3\\lib\\site-packages\\numpy\\.libs\\libopenblas64__v0.3.23-gcc_10_3_0.dll\n",
      "  warnings.warn(\"loaded more than 1 DLL from .libs:\"\n"
     ]
    }
   ],
   "source": [
    "# Paths data\n",
    "import pandas as pd\n",
    "import os\n",
    "\n",
    "class CleanData:\n",
    "    def __init__(self, path, process, encoding='utf-8'):\n",
    "        self.path = path\n",
    "        self.raw_data = pd.read_csv(self.path, sep=',', encoding=encoding)\n",
    "        if process:\n",
    "            self.process_dataset()\n",
    "        else:\n",
    "            self.dataset = self.raw_data\n",
    "\n",
    "    def process_dataset(self):\n",
    "        dataset = self.raw_data.loc[:, ['name', 'addresses_district_id', 'addresses_district_name', 'addresses_neighborhood_id', 'addresses_neighborhood_name']]\n",
    "        dataset = dataset.dropna(axis=0, inplace=False)\n",
    "        self.dataset = dataset\n",
    "    \n",
    "    def rename_column(self, col, new_col):\n",
    "        self.dataset = self.dataset.rename(columns={col: new_col})\n",
    "\n",
    "# PATH ALS FITXERS EN LOCAL\n",
    "Escoles_infantils_path = r'C:\\Users\\34644\\Desktop\\JUMP2DIGITAL\\Datasets\\opendatabcn_educacio_ensenyament_infantil.csv'\n",
    "Escoles_primaries_cursos_reglats_path = r'C:\\Users\\34644\\Desktop\\JUMP2DIGITAL\\Datasets\\opendatabcn_educacio_ensenyament_reglat.csv'\n",
    "Equipaments_path = r'C:\\Users\\34644\\Desktop\\JUMP2DIGITAL\\Datasets\\opendatabcn_llista-equipaments_educacio-csv.csv'\n",
    "Estudiante_barrios_path = r'C:\\Users\\34644\\Desktop\\JUMP2DIGITAL\\Datasets\\estudiantes_barrios.csv'\n",
    "Llistat_equipaments_path = r'C:\\Users\\34644\\Desktop\\JUMP2DIGITAL\\Datasets\\opendatabcn_llista-equipaments_serveis-socials-csv.csv'"
   ]
  },
  {
   "cell_type": "code",
   "execution_count": 115,
   "metadata": {},
   "outputs": [],
   "source": [
    "# Funcio que crear un json en vase a un dataset i les columnes pertinents.\n",
    "def create_json(json_path, dataset, type_function, grup_by = 'Codi_Bari', column_name = 'Valor'):\n",
    "    import json\n",
    "    # Assuming Escoles_infantils is your DataFrame\n",
    "    grouped = dataset.groupby(grup_by)\n",
    "\n",
    "    # Using dictionary comprehension\n",
    "    new_data = {\n",
    "        neighborhood: type_function(group[column_name].unique())\n",
    "        for neighborhood, group in grouped\n",
    "    }\n",
    "\n",
    "    with open(json_path, 'w') as fp:\n",
    "        json.dump(new_data, fp)\n"
   ]
  },
  {
   "cell_type": "code",
   "execution_count": 116,
   "metadata": {},
   "outputs": [],
   "source": [
    "Escoles_infantils                   = CleanData(Escoles_infantils_path, process = True, encoding='UTF-16')\n",
    "Escoles_primaries_cursos_reglats    = CleanData(Escoles_primaries_cursos_reglats_path,process = True, encoding='UTF-16')\n",
    "Equipaments                         = CleanData(Equipaments_path, process = True, encoding='UTF-16')\n",
    "Estudiante_barrios                  = CleanData(Estudiante_barrios_path, process=False)\n",
    "\n",
    "Escoles_infantils.rename_column('addresses_neighborhood_id', 'Codi_barri')\n",
    "Escoles_primaries_cursos_reglats.rename_column('addresses_neighborhood_id', 'Codi_barri')\n",
    "Equipaments.rename_column('addresses_neighborhood_id', 'Codi_barri')"
   ]
  },
  {
   "cell_type": "code",
   "execution_count": 117,
   "metadata": {},
   "outputs": [
    {
     "name": "stderr",
     "output_type": "stream",
     "text": [
      "C:\\Users\\34644\\AppData\\Local\\Temp\\ipykernel_16348\\2023641169.py:8: DeprecationWarning: Conversion of an array with ndim > 0 to a scalar is deprecated, and will error in future. Ensure you extract a single element from your array before performing this operation. (Deprecated NumPy 1.25.)\n",
      "  neighborhood: type_function(group[column_name].unique())\n"
     ]
    }
   ],
   "source": [
    "create_json('escoles_infantils.json', Escoles_infantils.dataset, list, 'Codi_barri', 'name')\n",
    "create_json('estudis_reglamentaris.json', Escoles_primaries_cursos_reglats.dataset, list, 'Codi_barri', 'name')\n",
    "create_json('equipaments.json', Equipaments.dataset, list, 'Codi_barri', 'name')\n",
    "create_json('numero_estudiants.json', Estudiante_barrios.dataset, int, 'Codi_Barri', 'Valor')"
   ]
  }
 ],
 "metadata": {
  "kernelspec": {
   "display_name": "base",
   "language": "python",
   "name": "python3"
  },
  "language_info": {
   "codemirror_mode": {
    "name": "ipython",
    "version": 3
   },
   "file_extension": ".py",
   "mimetype": "text/x-python",
   "name": "python",
   "nbconvert_exporter": "python",
   "pygments_lexer": "ipython3",
   "version": "3.9.13"
  }
 },
 "nbformat": 4,
 "nbformat_minor": 2
}
